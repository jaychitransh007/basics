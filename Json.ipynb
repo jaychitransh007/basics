{
 "cells": [
  {
   "cell_type": "code",
   "execution_count": 16,
   "metadata": {},
   "outputs": [],
   "source": [
    "import json"
   ]
  },
  {
   "cell_type": "code",
   "execution_count": 17,
   "metadata": {},
   "outputs": [
    {
     "name": "stdout",
     "output_type": "stream",
     "text": [
      "Mrityunjay\n"
     ]
    }
   ],
   "source": [
    "user_json = '{\"user_id\": \"Q039\", \"name\": \"Mrityunjay\"}'\n",
    "user_data = json.loads(user_json)\n",
    "print(user_data['name'])"
   ]
  },
  {
   "cell_type": "code",
   "execution_count": 20,
   "metadata": {},
   "outputs": [],
   "source": [
    "user_data['likes'] = ['Python', 'Data Mining']\n",
    "user_data['role'] = ['Operations', 'Product']"
   ]
  },
  {
   "cell_type": "code",
   "execution_count": 21,
   "metadata": {},
   "outputs": [
    {
     "name": "stdout",
     "output_type": "stream",
     "text": [
      "{\n",
      "    \"user_id\": \"Q039\",\n",
      "    \"name\": \"Mrityunjay\",\n",
      "    \"likes\": [\n",
      "        \"Python\",\n",
      "        \"Data Mining\"\n",
      "    ],\n",
      "    \"Role\": [\n",
      "        \"Operations\",\n",
      "        \"Product\"\n",
      "    ],\n",
      "    \"role\": [\n",
      "        \"Operations\",\n",
      "        \"Product\"\n",
      "    ]\n",
      "}\n"
     ]
    }
   ],
   "source": [
    "user_json = json.dumps(user_data, indent = 4)\n",
    "print(user_json)"
   ]
  },
  {
   "cell_type": "code",
   "execution_count": null,
   "metadata": {},
   "outputs": [],
   "source": []
  },
  {
   "cell_type": "code",
   "execution_count": null,
   "metadata": {},
   "outputs": [],
   "source": []
  }
 ],
 "metadata": {
  "kernelspec": {
   "display_name": "Python 3",
   "language": "python",
   "name": "python3"
  },
  "language_info": {
   "codemirror_mode": {
    "name": "ipython",
    "version": 3
   },
   "file_extension": ".py",
   "mimetype": "text/x-python",
   "name": "python",
   "nbconvert_exporter": "python",
   "pygments_lexer": "ipython3",
   "version": "3.6.4"
  }
 },
 "nbformat": 4,
 "nbformat_minor": 2
}

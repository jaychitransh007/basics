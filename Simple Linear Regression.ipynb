{
 "cells": [
  {
   "cell_type": "code",
   "execution_count": 8,
   "metadata": {},
   "outputs": [],
   "source": [
    "import numpy as np\n",
    "import matplotlib.pyplot as plt\n",
    "from sklearn.linear_model import LinearRegression"
   ]
  },
  {
   "cell_type": "code",
   "execution_count": 16,
   "metadata": {},
   "outputs": [
    {
     "data": {
      "text/plain": [
       "array([0.26380726, 8.07669397, 6.02131062, 9.05932569, 8.48233623,\n",
       "       1.85701141, 2.28348625, 7.9514043 , 8.29996133, 3.15320444,\n",
       "       9.2771102 , 2.81565475, 1.61451218, 5.92042392, 3.70225334,\n",
       "       5.0344682 , 0.26493916, 1.31523472, 9.68529633, 3.36449588,\n",
       "       5.26939833, 5.09551272, 5.92704938, 4.65803348, 3.13731612,\n",
       "       2.64672555, 6.87458331, 7.11888176, 7.41655655, 1.67434358,\n",
       "       9.42399309, 7.62675549, 3.20655051, 4.99409801, 1.77669883,\n",
       "       0.74794522, 0.72240572, 7.43860999, 8.62213677, 0.69373995,\n",
       "       0.37933249, 3.93664928, 2.09039167, 9.38573566, 0.91300615,\n",
       "       1.58180076, 4.03378865, 2.79578105, 9.14860657, 4.37950425,\n",
       "       1.10023709, 1.52314792, 3.97940955, 8.60513617, 8.25857871,\n",
       "       1.74233697, 2.54113637, 9.51319484, 7.63712838, 7.80187686,\n",
       "       6.98111239, 5.52300207, 1.89527586, 1.04640021, 2.34136415,\n",
       "       7.44544879, 4.91163942, 4.1862562 , 7.49391137, 9.76164635,\n",
       "       2.7964284 , 4.77847598, 4.81163843, 3.91115094, 8.48138614,\n",
       "       7.84570057, 7.31380397, 8.4107292 , 2.1927176 , 6.83821105,\n",
       "       8.70299119, 9.35639963, 3.46967792, 2.01271893, 7.95795299,\n",
       "       4.91247054, 9.88723351, 2.06578892, 0.52005293, 0.90167993,\n",
       "       0.43663603, 7.27729596, 8.13729812, 2.41205219, 2.68338865,\n",
       "       4.56236265, 0.69463102, 9.32671859, 0.90988268, 1.06285468])"
      ]
     },
     "execution_count": 16,
     "metadata": {},
     "output_type": "execute_result"
    }
   ],
   "source": [
    "x = 10*np.random.rand(100)\n",
    "# predictor\n",
    "x"
   ]
  },
  {
   "cell_type": "code",
   "execution_count": 18,
   "metadata": {},
   "outputs": [
    {
     "data": {
      "text/plain": [
       "array([ 1.33083073, 24.21328965, 18.10480497, 28.18154306, 25.64105878,\n",
       "        5.84397191,  5.25802377, 22.83708209, 26.82712426, 10.99515517,\n",
       "       27.69937098,  9.5887822 ,  6.19044416, 19.52730583,  9.48799987,\n",
       "       17.59790443,  1.75605569,  4.46079163, 29.73526445, 11.01821057,\n",
       "       15.72182701, 14.89556715, 16.71000692, 11.89186327, 10.27036302,\n",
       "        8.59687576, 22.35867127, 19.95557185, 22.93206968,  5.10590981,\n",
       "       27.14691484, 22.66438996, 10.5922168 , 16.83096506,  6.2849302 ,\n",
       "        2.80974779,  2.01979996, 22.98039009, 24.58348066,  2.55078661,\n",
       "        1.67710091, 11.5222184 ,  7.71912995, 26.99609043,  2.97247565,\n",
       "        6.59382973, 12.65095337,  9.71715662, 27.27373553, 14.24795392,\n",
       "        3.21340038,  6.2347786 , 10.63299231, 25.40644773, 26.0277857 ,\n",
       "        4.9075429 ,  6.26919309, 27.95283442, 24.63840022, 24.3735069 ,\n",
       "       21.30111325, 17.02583197,  2.6130742 ,  3.39675902,  5.7850979 ,\n",
       "       23.5332775 , 15.98405873, 11.81010951, 21.33628759, 28.96878556,\n",
       "       10.45157667, 13.91364549, 14.61722359, 11.63474481, 25.62167949,\n",
       "       23.88531348, 23.8724336 , 25.4954749 ,  5.70269816, 21.12648003,\n",
       "       27.5965507 , 28.62444586,  9.50834188,  6.11201991, 24.08505489,\n",
       "       13.66156531, 31.34266259,  5.66942058,  2.8942801 ,  5.55567501,\n",
       "       -0.85656975, 22.52268043, 24.7928687 ,  6.88309561,  9.91181603,\n",
       "       13.07761231,  2.55063179, 27.00180363,  3.85306655,  3.82635984])"
      ]
     },
     "execution_count": 18,
     "metadata": {},
     "output_type": "execute_result"
    }
   ],
   "source": [
    "y = 3*x + np.random.randn(100)\n",
    "#target\n",
    "y"
   ]
  },
  {
   "cell_type": "code",
   "execution_count": 19,
   "metadata": {},
   "outputs": [
    {
     "data": {
      "text/plain": [
       "<matplotlib.collections.PathCollection at 0x23766374208>"
      ]
     },
     "execution_count": 19,
     "metadata": {},
     "output_type": "execute_result"
    },
    {
     "data": {
      "image/png": "[encoded data removed]",
      "text/plain": [
       "<matplotlib.figure.Figure at 0x237662ae128>"
      ]
     },
     "metadata": {},
     "output_type": "display_data"
    }
   ],
   "source": [
    "# scatter plot relationship\n",
    "plt.scatter(x,y)"
   ]
  },
  {
   "cell_type": "code",
   "execution_count": 20,
   "metadata": {},
   "outputs": [
    {
     "data": {
      "text/plain": [
       "LinearRegression(copy_X=True, fit_intercept=True, n_jobs=1, normalize=False)"
      ]
     },
     "execution_count": 20,
     "metadata": {},
     "output_type": "execute_result"
    }
   ],
   "source": [
    "# simple linear regression model fitting\n",
    "model = LinearRegression(fit_intercept=True)\n",
    "model"
   ]
  },
  {
   "cell_type": "code",
   "execution_count": 21,
   "metadata": {},
   "outputs": [
    {
     "name": "stdout",
     "output_type": "stream",
     "text": [
      "(100, 1)\n",
      "(100,)\n"
     ]
    }
   ],
   "source": [
    "# reshaping predictor\n",
    "X = x.reshape(-1,1)\n",
    "print(X.shape)\n",
    "print(y.shape)"
   ]
  },
  {
   "cell_type": "code",
   "execution_count": 22,
   "metadata": {},
   "outputs": [
    {
     "data": {
      "text/plain": [
       "LinearRegression(copy_X=True, fit_intercept=True, n_jobs=1, normalize=False)"
      ]
     },
     "execution_count": 22,
     "metadata": {},
     "output_type": "execute_result"
    }
   ],
   "source": [
    "model.fit(X, y)"
   ]
  },
  {
   "cell_type": "code",
   "execution_count": 23,
   "metadata": {},
   "outputs": [
    {
     "name": "stdout",
     "output_type": "stream",
     "text": [
      "[2.98222865]\n",
      "0.3611175147533512\n"
     ]
    }
   ],
   "source": [
    "# Coefficient and Intercept value\n",
    "print(model.coef_)\n",
    "print(model.intercept_)"
   ]
  },
  {
   "cell_type": "code",
   "execution_count": 25,
   "metadata": {},
   "outputs": [],
   "source": [
    "# Target values\n",
    "x_fit = np.linspace(-1,11)\n",
    "X_fit = x_fit.reshape(-1, 1)"
   ]
  },
  {
   "cell_type": "code",
   "execution_count": 26,
   "metadata": {},
   "outputs": [],
   "source": [
    "# predicted value\n",
    "y_fit = model.predict(X_fit)"
   ]
  },
  {
   "cell_type": "code",
   "execution_count": 27,
   "metadata": {},
   "outputs": [
    {
     "data": {
      "text/plain": [
       "[<matplotlib.lines.Line2D at 0x237662d6be0>]"
      ]
     },
     "execution_count": 27,
     "metadata": {},
     "output_type": "execute_result"
    },
    {
     "data": {
      "image/png": "[encoded data removed]",
      "text/plain": [
       "<matplotlib.figure.Figure at 0x23766310400>"
      ]
     },
     "metadata": {},
     "output_type": "display_data"
    }
   ],
   "source": [
    "# predicted line vs scatter plot of predictors\n",
    "\n",
    "plt.scatter(x,y)\n",
    "plt.plot(x_fit, y_fit)"
   ]
  },
  {
   "cell_type": "code",
   "execution_count": null,
   "metadata": {},
   "outputs": [],
   "source": []
  }
 ],
 "metadata": {
  "kernelspec": {
   "display_name": "Python 3",
   "language": "python",
   "name": "python3"
  },
  "language_info": {
   "codemirror_mode": {
    "name": "ipython",
    "version": 3
   },
   "file_extension": ".py",
   "mimetype": "text/x-python",
   "name": "python",
   "nbconvert_exporter": "python",
   "pygments_lexer": "ipython3",
   "version": "3.6.4"
  }
 },
 "nbformat": 4,
 "nbformat_minor": 2
}
